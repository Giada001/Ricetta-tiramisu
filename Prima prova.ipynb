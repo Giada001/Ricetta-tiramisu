{
 "cells": [
  {
   "cell_type": "markdown",
   "id": "31731e89-eb47-427e-8911-e18d242b9b8c",
   "metadata": {},
   "source": [
    "# Prima prova"
   ]
  },
  {
   "cell_type": "markdown",
   "id": "2658990e-ba51-47f8-95b1-f83fd5133f02",
   "metadata": {},
   "source": [
    "###### Iniziamo\n"
   ]
  },
  {
   "cell_type": "markdown",
   "id": "dad2e959-6e77-48d2-9b86-7bf0df2169ef",
   "metadata": {},
   "source": [
    "##### questa è la prima linea\n",
    "##### e questa è la seconda linea"
   ]
  },
  {
   "cell_type": "markdown",
   "id": "3eb8bcb6-c3a7-4e25-b579-799c255f4b97",
   "metadata": {},
   "source": [
    "**grassetto**"
   ]
  },
  {
   "cell_type": "markdown",
   "id": "7cf5591f-4cda-46ce-b1b2-aaf7d9f539ad",
   "metadata": {},
   "source": [
    "__grassetto__\n"
   ]
  },
  {
   "cell_type": "markdown",
   "id": "5266605d-1732-4a05-8acb-1fc3f978c245",
   "metadata": {},
   "source": [
    "_corsivo_\n",
    "\n"
   ]
  },
  {
   "cell_type": "markdown",
   "id": "3f102df0-f861-4964-8aad-767c10bb8ee2",
   "metadata": {},
   "source": [
    "**_corsivo e grassetto assieme_**"
   ]
  },
  {
   "cell_type": "markdown",
   "id": "25d51866-1473-433e-9dcb-1d7a0433fd9e",
   "metadata": {},
   "source": [
    "1 ciao\n",
    "2 ciao\n",
    "3 ciao"
   ]
  },
  {
   "cell_type": "markdown",
   "id": "879e7f16-2f5f-4817-9afc-7aaba8805aa8",
   "metadata": {},
   "source": [
    "- ciao\n",
    "- ciao\n",
    "- ciao"
   ]
  },
  {
   "cell_type": "code",
   "execution_count": 2,
   "id": "ddf99dd8-d1b2-430b-a92e-30245ce2ef05",
   "metadata": {},
   "outputs": [
    {
     "ename": "SyntaxError",
     "evalue": "invalid syntax (Temp/ipykernel_3712/928930343.py, line 1)",
     "output_type": "error",
     "traceback": [
      "\u001b[1;36m  File \u001b[1;32m\"C:\\Users\\gproc\\AppData\\Local\\Temp/ipykernel_3712/928930343.py\"\u001b[1;36m, line \u001b[1;32m1\u001b[0m\n\u001b[1;33m    1. ciao\u001b[0m\n\u001b[1;37m       ^\u001b[0m\n\u001b[1;31mSyntaxError\u001b[0m\u001b[1;31m:\u001b[0m invalid syntax\n"
     ]
    }
   ],
   "source": [
    "1. ciao\n",
    "2. ciao\n",
    "3.ciao\n"
   ]
  },
  {
   "cell_type": "markdown",
   "id": "33ccd5b4-f7a2-40fb-9f6c-bcb25eb41d2a",
   "metadata": {},
   "source": [
    "1. ciao\n",
    "2. ciao\n",
    "3. ciao"
   ]
  },
  {
   "cell_type": "markdown",
   "id": "2930cc82-76a7-4818-a453-dddbef59d226",
   "metadata": {},
   "source": [
    "- ciao\n",
    " - ciao\n",
    "- ciao\n",
    " - ciao"
   ]
  },
  {
   "cell_type": "markdown",
   "id": "ef15ebb4-7b3a-4d45-a050-09e23e3cab86",
   "metadata": {},
   "source": [
    "- ciao\n",
    "    - ciao"
   ]
  },
  {
   "cell_type": "markdown",
   "id": "0abf772a-1907-4b06-ab0d-2d9769af19a0",
   "metadata": {},
   "source": [
    "ciao nano ciao"
   ]
  },
  {
   "cell_type": "markdown",
   "id": "d7673dad-4dd4-4443-92d2-6c44cf2524c6",
   "metadata": {},
   "source": [
    "ciao 'nano' ciao"
   ]
  },
  {
   "cell_type": "code",
   "execution_count": 3,
   "id": "46e25740-5067-4fba-8a84-f3caf1d7eab9",
   "metadata": {},
   "outputs": [],
   "source": [
    "a=10"
   ]
  },
  {
   "cell_type": "code",
   "execution_count": 4,
   "id": "ba4c7afd-152c-4e3c-995e-ee6a7d4bed08",
   "metadata": {},
   "outputs": [
    {
     "ename": "SyntaxError",
     "evalue": "Missing parentheses in call to 'print'. Did you mean print(a)? (Temp/ipykernel_3712/2947294964.py, line 1)",
     "output_type": "error",
     "traceback": [
      "\u001b[1;36m  File \u001b[1;32m\"C:\\Users\\gproc\\AppData\\Local\\Temp/ipykernel_3712/2947294964.py\"\u001b[1;36m, line \u001b[1;32m1\u001b[0m\n\u001b[1;33m    print a\u001b[0m\n\u001b[1;37m          ^\u001b[0m\n\u001b[1;31mSyntaxError\u001b[0m\u001b[1;31m:\u001b[0m Missing parentheses in call to 'print'. Did you mean print(a)?\n"
     ]
    }
   ],
   "source": [
    "print a"
   ]
  },
  {
   "cell_type": "code",
   "execution_count": 5,
   "id": "b01caa63-d0a0-4691-82da-89dd66985bee",
   "metadata": {},
   "outputs": [
    {
     "ename": "NameError",
     "evalue": "name 'yes' is not defined",
     "output_type": "error",
     "traceback": [
      "\u001b[1;31m---------------------------------------------------------------------------\u001b[0m",
      "\u001b[1;31mNameError\u001b[0m                                 Traceback (most recent call last)",
      "\u001b[1;32m~\\AppData\\Local\\Temp/ipykernel_3712/4119457368.py\u001b[0m in \u001b[0;36m<module>\u001b[1;34m\u001b[0m\n\u001b[1;32m----> 1\u001b[1;33m \u001b[0myes\u001b[0m\u001b[1;33m\u001b[0m\u001b[1;33m\u001b[0m\u001b[0m\n\u001b[0m",
      "\u001b[1;31mNameError\u001b[0m: name 'yes' is not defined"
     ]
    }
   ],
   "source": [
    "yes\n"
   ]
  },
  {
   "cell_type": "code",
   "execution_count": 6,
   "id": "fd096000-0769-42d6-b239-1c8d260d70eb",
   "metadata": {},
   "outputs": [
    {
     "name": "stdout",
     "output_type": "stream",
     "text": [
      "10\n"
     ]
    }
   ],
   "source": [
    "print (a)"
   ]
  },
  {
   "cell_type": "code",
   "execution_count": 7,
   "id": "99ecfd8d-200d-4952-9be7-6c4982056cc6",
   "metadata": {},
   "outputs": [],
   "source": [
    "b= 55"
   ]
  },
  {
   "cell_type": "code",
   "execution_count": 8,
   "id": "830bf000-1975-4cb6-9363-3cc58b618022",
   "metadata": {},
   "outputs": [],
   "source": [
    "c = a+b"
   ]
  },
  {
   "cell_type": "code",
   "execution_count": 9,
   "id": "ae2a86c3-a8e9-4148-b377-fdae6330939f",
   "metadata": {},
   "outputs": [
    {
     "name": "stdout",
     "output_type": "stream",
     "text": [
      "65\n"
     ]
    }
   ],
   "source": [
    "print (c)"
   ]
  },
  {
   "cell_type": "code",
   "execution_count": 10,
   "id": "3f006f98-8681-4977-9c7d-41c1416b4207",
   "metadata": {},
   "outputs": [],
   "source": [
    "d= a+b-c*200"
   ]
  },
  {
   "cell_type": "code",
   "execution_count": 11,
   "id": "418a4f24-b476-4a5d-9bb0-9fc4ab7b0df9",
   "metadata": {},
   "outputs": [
    {
     "name": "stdout",
     "output_type": "stream",
     "text": [
      "-12935\n"
     ]
    }
   ],
   "source": [
    "print (d)"
   ]
  },
  {
   "cell_type": "markdown",
   "id": "af94486c-c673-4f4f-9b65-07c96a5439ea",
   "metadata": {},
   "source": []
  }
 ],
 "metadata": {
  "kernelspec": {
   "display_name": "Python 3 (ipykernel)",
   "language": "python",
   "name": "python3"
  },
  "language_info": {
   "codemirror_mode": {
    "name": "ipython",
    "version": 3
   },
   "file_extension": ".py",
   "mimetype": "text/x-python",
   "name": "python",
   "nbconvert_exporter": "python",
   "pygments_lexer": "ipython3",
   "version": "3.9.7"
  }
 },
 "nbformat": 4,
 "nbformat_minor": 5
}
